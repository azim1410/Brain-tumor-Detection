{
 "cells": [
  {
   "cell_type": "code",
   "execution_count": 1,
   "id": "76c68024",
   "metadata": {},
   "outputs": [],
   "source": [
    "import cv2\n",
    "import os\n",
    "from sklearn.svm import SVC\n",
    "from sklearn.model_selection import train_test_split\n",
    "import numpy as np\n",
    "from PIL import Image\n",
    "from sklearn.preprocessing import StandardScaler\n",
    "import tensorflow as tf\n",
    "from tensorflow import keras\n",
    "from keras.layers import Flatten"
   ]
  },
  {
   "cell_type": "code",
   "execution_count": 2,
   "id": "59701913",
   "metadata": {},
   "outputs": [
    {
     "name": "stdout",
     "output_type": "stream",
     "text": [
      "98\n",
      "155\n"
     ]
    }
   ],
   "source": [
    "image_directory='datasets/'\n",
    "no_tumor_images=os.listdir(image_directory+'no/')\n",
    "yes_tumor_images=os.listdir(image_directory+'yes/')\n",
    "no_tumor_images\n",
    "dataset=[]\n",
    "label=[]\n",
    "print(len(no_tumor_images))\n",
    "print(len(yes_tumor_images))"
   ]
  },
  {
   "cell_type": "code",
   "execution_count": 4,
   "id": "7a5fc681",
   "metadata": {},
   "outputs": [],
   "source": [
    "for i,image_name in enumerate(no_tumor_images):\n",
    "    if(image_name.split('.')[1]=='jpg'):\n",
    "        image=cv2.imread(image_directory+'no/'+image_name)\n",
    "        image=Image.fromarray(image,'RGB')\n",
    "        image=image.resize((64,64))\n",
    "        dataset.append(np.array(image).flatten())\n",
    "        label.append(0)"
   ]
  },
  {
   "cell_type": "code",
   "execution_count": 5,
   "id": "8967476a",
   "metadata": {},
   "outputs": [],
   "source": [
    "for i,image_name in enumerate(yes_tumor_images):\n",
    "    if(image_name.split('.')[1]=='jpg'):\n",
    "        image=cv2.imread(image_directory+'yes/'+image_name)\n",
    "        image=Image.fromarray(image,'RGB')\n",
    "        image=image.resize((64,64))\n",
    "        dataset.append(np.array(image).flatten())\n",
    "        label.append(1)"
   ]
  },
  {
   "cell_type": "code",
   "execution_count": 6,
   "id": "17dcfcb5",
   "metadata": {},
   "outputs": [
    {
     "name": "stdout",
     "output_type": "stream",
     "text": [
      "(256, 12288)\n",
      "(256,)\n"
     ]
    }
   ],
   "source": [
    "dataset=np.array(dataset)\n",
    "label=np.array(label)\n",
    "print(dataset.shape)\n",
    "print(label.shape)"
   ]
  },
  {
   "cell_type": "code",
   "execution_count": 7,
   "id": "80a48643",
   "metadata": {},
   "outputs": [],
   "source": [
    "x_train,x_test,y_train,y_test=train_test_split(dataset,label,test_size=0.2,shuffle=True)"
   ]
  },
  {
   "cell_type": "code",
   "execution_count": 8,
   "id": "beffd264",
   "metadata": {},
   "outputs": [
    {
     "name": "stdout",
     "output_type": "stream",
     "text": [
      "0.8269230769230769\n"
     ]
    }
   ],
   "source": [
    "model=SVC()\n",
    "model.fit(x_train,y_train)\n",
    "y_pred=model.predict(x_test)\n",
    "from sklearn import metrics\n",
    "print(metrics.accuracy_score(y_test,y_pred))"
   ]
  },
  {
   "cell_type": "code",
   "execution_count": 18,
   "id": "4b9012eb",
   "metadata": {},
   "outputs": [
    {
     "data": {
      "image/png": "[encoded data removed]",
      "text/plain": [
       "<Figure size 432x288 with 3 Axes>"
      ]
     },
     "metadata": {
      "needs_background": "light"
     },
     "output_type": "display_data"
    }
   ],
   "source": [
    "import matplotlib.pyplot as plt\n",
    "dir1=os.listdir('test/')\n",
    "c=1\n",
    "for i in os.listdir('test/'):\n",
    "    test=[]\n",
    "    plt.subplot(3,3,c)\n",
    "    image=cv2.imread('test/'+i)\n",
    "    image=Image.fromarray(image,'RGB')\n",
    "    image=image.resize((64,64))\n",
    "    test.append(np.array(image).flatten())\n",
    "    test=np.array(test)\n",
    "    pred=model.predict(test)\n",
    "    # plt.title(dict[i])\n",
    "    if(pred==0):\n",
    "        plt.title('No Tumor')\n",
    "    elif(pred==1):\n",
    "        plt.title(\"yes tumor\")\n",
    "    else:\n",
    "        plt.title(\"irrelevant\")\n",
    "    c+=1\n",
    "    plt.imshow(image,cmap='gray')\n",
    "    plt.axis('off')"
   ]
  },
  {
   "cell_type": "code",
   "execution_count": null,
   "id": "c19688e7",
   "metadata": {},
   "outputs": [],
   "source": []
  },
  {
   "cell_type": "code",
   "execution_count": null,
   "id": "1f780fe1",
   "metadata": {},
   "outputs": [],
   "source": []
  }
 ],
 "metadata": {
  "kernelspec": {
   "display_name": "Python 3 (ipykernel)",
   "language": "python",
   "name": "python3"
  },
  "language_info": {
   "codemirror_mode": {
    "name": "ipython",
    "version": 3
   },
   "file_extension": ".py",
   "mimetype": "text/x-python",
   "name": "python",
   "nbconvert_exporter": "python",
   "pygments_lexer": "ipython3",
   "version": "3.10.0"
  }
 },
 "nbformat": 4,
 "nbformat_minor": 5
}
