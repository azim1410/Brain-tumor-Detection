{
 "cells": [
  {
   "cell_type": "code",
   "execution_count": 1,
   "id": "4e884377",
   "metadata": {},
   "outputs": [
    {
     "name": "stdout",
     "output_type": "stream",
     "text": [
      "Requirement already satisfied: scikit-image in c:\\users\\azim damani\\appdata\\local\\programs\\python\\python310\\lib\\site-packages (0.19.2)\n",
      "Requirement already satisfied: imageio>=2.4.1 in c:\\users\\azim damani\\appdata\\local\\programs\\python\\python310\\lib\\site-packages (from scikit-image) (2.16.2)\n",
      "Requirement already satisfied: numpy>=1.17.0 in c:\\users\\azim damani\\appdata\\local\\programs\\python\\python310\\lib\\site-packages (from scikit-image) (1.22.3)\n",
      "Requirement already satisfied: tifffile>=2019.7.26 in c:\\users\\azim damani\\appdata\\local\\programs\\python\\python310\\lib\\site-packages (from scikit-image) (2022.4.8)\n",
      "Requirement already satisfied: networkx>=2.2 in c:\\users\\azim damani\\appdata\\local\\programs\\python\\python310\\lib\\site-packages (from scikit-image) (2.8)\n",
      "Requirement already satisfied: pillow!=7.1.0,!=7.1.1,!=8.3.0,>=6.1.0 in c:\\users\\azim damani\\appdata\\local\\programs\\python\\python310\\lib\\site-packages (from scikit-image) (9.0.1)\n",
      "Requirement already satisfied: packaging>=20.0 in c:\\users\\azim damani\\appdata\\local\\programs\\python\\python310\\lib\\site-packages (from scikit-image) (21.0)\n",
      "Requirement already satisfied: PyWavelets>=1.1.1 in c:\\users\\azim damani\\appdata\\local\\programs\\python\\python310\\lib\\site-packages (from scikit-image) (1.3.0)\n",
      "Requirement already satisfied: scipy>=1.4.1 in c:\\users\\azim damani\\appdata\\local\\programs\\python\\python310\\lib\\site-packages (from scikit-image) (1.8.0)\n",
      "Requirement already satisfied: pyparsing>=2.0.2 in c:\\users\\azim damani\\appdata\\local\\programs\\python\\python310\\lib\\site-packages (from packaging>=20.0->scikit-image) (2.4.7)\n",
      "Note: you may need to restart the kernel to use updated packages.\n"
     ]
    }
   ],
   "source": [
    "pip install scikit-image"
   ]
  },
  {
   "cell_type": "code",
   "execution_count": 2,
   "id": "6e16a52c",
   "metadata": {},
   "outputs": [
    {
     "name": "stdout",
     "output_type": "stream",
     "text": [
      "Requirement already satisfied: opencv-python in c:\\users\\azim damani\\appdata\\local\\programs\\python\\python310\\lib\\site-packages (4.5.5.64)\n",
      "Requirement already satisfied: numpy>=1.19.3 in c:\\users\\azim damani\\appdata\\local\\programs\\python\\python310\\lib\\site-packages (from opencv-python) (1.22.3)\n"
     ]
    }
   ],
   "source": [
    "!pip install opencv-python\n"
   ]
  },
  {
   "cell_type": "code",
   "execution_count": 2,
   "id": "6b5fc6b9",
   "metadata": {},
   "outputs": [],
   "source": [
    "import numpy as np\n",
    "import matplotlib\n",
    "from skimage.feature import canny\n",
    "import cv2\n",
    "from skimage.filters import median\n",
    "from matplotlib import pyplot as plt"
   ]
  },
  {
   "cell_type": "code",
   "execution_count": 3,
   "id": "96163ebe",
   "metadata": {},
   "outputs": [
    {
     "data": {
      "text/plain": [
       "(array([68293., 19127.,  2028.,  3225.,   704.,   871.,   786.,  1458.,\n",
       "          575.,   554.,  1437.,   580.,   621.,   722.,  1175.,   713.,\n",
       "          882.,   911.,  2388.,  1190.,  1921.,  2838.,  1223.,  1505.,\n",
       "         1114.,  2024.,   938.,   998.,  1272.,  2846.,  1306.,  1152.,\n",
       "         2201.,  1053.,  1087.,  1065.,  1971.,  1135.,  1194.,  1257.,\n",
       "         2835.,  1795.,  1561.,  3591.,  1616.,  2129.,  1808.,  3588.,\n",
       "         1995.,  1919.,  4515.,  2744.,  2529.,  3708.,  5627.,  3968.,\n",
       "         1975.,  2011.,  6365.,  3283.,  4367.,  7778.,  3526.,  5026.,\n",
       "         3825., 10053.,  5258.,  2739.,  3375.,  8684.,  5477.,  4195.,\n",
       "        12293.,  8748.,  5298., 11539., 14772.,  3210.,  4060., 11001.,\n",
       "        15628.,  4143.,  9741., 10121.,  2898.,  4674.,  1897.,  3026.,\n",
       "          837.,   923.,  2711.,   852.,   834.,   758.,  1819.,   812.,\n",
       "          861.,   892.,  1140.,   610.,   546.,  1121.,   528.,   488.,\n",
       "          463.,   872.,   397.,   390.,   370.,   809.,   385.,   355.,\n",
       "          742.,   378.,   378.,   351.,   665.,   324.,   340.,   345.,\n",
       "          634.,   376.,   330.,   678.,   373.,   364.,   326.,   701.,\n",
       "          362.,   348.,   687.,   353.,   350.,   368.,   820.,   971.,\n",
       "          470.,   396.,   923.,   435.,   399.,   814.,   368.,   855.,\n",
       "          347.,   860.,   359.,   558.,   442.,   800.,   372.,   365.,\n",
       "          780.,   393.,   415.,   409.,   814.,   407.,   666.,   419.,\n",
       "          899.,   413.,   719.,   905.,   477.,   517.,   680.,  1144.,\n",
       "          527.,   540.,   939.,   488.,   539.,   550.,  1172.,   548.,\n",
       "          548.,   517.,   975.,   493.,   537.,  1016.,   515.,   492.,\n",
       "          596.,  1237.,   676.,   730.,   784.,  1718.,   956.,   804.,\n",
       "         1377.,   772.,  1045.,  1423.,  2463.,  1213.,   978.,  5156.]),\n",
       " array([  0.   ,   1.275,   2.55 ,   3.825,   5.1  ,   6.375,   7.65 ,\n",
       "          8.925,  10.2  ,  11.475,  12.75 ,  14.025,  15.3  ,  16.575,\n",
       "         17.85 ,  19.125,  20.4  ,  21.675,  22.95 ,  24.225,  25.5  ,\n",
       "         26.775,  28.05 ,  29.325,  30.6  ,  31.875,  33.15 ,  34.425,\n",
       "         35.7  ,  36.975,  38.25 ,  39.525,  40.8  ,  42.075,  43.35 ,\n",
       "         44.625,  45.9  ,  47.175,  48.45 ,  49.725,  51.   ,  52.275,\n",
       "         53.55 ,  54.825,  56.1  ,  57.375,  58.65 ,  59.925,  61.2  ,\n",
       "         62.475,  63.75 ,  65.025,  66.3  ,  67.575,  68.85 ,  70.125,\n",
       "         71.4  ,  72.675,  73.95 ,  75.225,  76.5  ,  77.775,  79.05 ,\n",
       "         80.325,  81.6  ,  82.875,  84.15 ,  85.425,  86.7  ,  87.975,\n",
       "         89.25 ,  90.525,  91.8  ,  93.075,  94.35 ,  95.625,  96.9  ,\n",
       "         98.175,  99.45 , 100.725, 102.   , 103.275, 104.55 , 105.825,\n",
       "        107.1  , 108.375, 109.65 , 110.925, 112.2  , 113.475, 114.75 ,\n",
       "        116.025, 117.3  , 118.575, 119.85 , 121.125, 122.4  , 123.675,\n",
       "        124.95 , 126.225, 127.5  , 128.775, 130.05 , 131.325, 132.6  ,\n",
       "        133.875, 135.15 , 136.425, 137.7  , 138.975, 140.25 , 141.525,\n",
       "        142.8  , 144.075, 145.35 , 146.625, 147.9  , 149.175, 150.45 ,\n",
       "        151.725, 153.   , 154.275, 155.55 , 156.825, 158.1  , 159.375,\n",
       "        160.65 , 161.925, 163.2  , 164.475, 165.75 , 167.025, 168.3  ,\n",
       "        169.575, 170.85 , 172.125, 173.4  , 174.675, 175.95 , 177.225,\n",
       "        178.5  , 179.775, 181.05 , 182.325, 183.6  , 184.875, 186.15 ,\n",
       "        187.425, 188.7  , 189.975, 191.25 , 192.525, 193.8  , 195.075,\n",
       "        196.35 , 197.625, 198.9  , 200.175, 201.45 , 202.725, 204.   ,\n",
       "        205.275, 206.55 , 207.825, 209.1  , 210.375, 211.65 , 212.925,\n",
       "        214.2  , 215.475, 216.75 , 218.025, 219.3  , 220.575, 221.85 ,\n",
       "        223.125, 224.4  , 225.675, 226.95 , 228.225, 229.5  , 230.775,\n",
       "        232.05 , 233.325, 234.6  , 235.875, 237.15 , 238.425, 239.7  ,\n",
       "        240.975, 242.25 , 243.525, 244.8  , 246.075, 247.35 , 248.625,\n",
       "        249.9  , 251.175, 252.45 , 253.725, 255.   ]),\n",
       " <BarContainer object of 200 artists>)"
      ]
     },
     "execution_count": 3,
     "metadata": {},
     "output_type": "execute_result"
    },
    {
     "data": {
      "image/png": "[encoded data removed]",
      "text/plain": [
       "<Figure size 432x288 with 1 Axes>"
      ]
     },
     "metadata": {
      "needs_background": "light"
     },
     "output_type": "display_data"
    }
   ],
   "source": [
    "img = cv2.imread(\"traindset.png\", 0)\n",
    "ret , th= cv2.threshold(img, 0, 255, cv2.THRESH_BINARY+cv2.THRESH_OTSU)\n",
    "plt.hist(img.flat, bins=200,range=(0,255))"
   ]
  },
  {
   "cell_type": "code",
   "execution_count": 4,
   "id": "543e5071",
   "metadata": {},
   "outputs": [],
   "source": [
    "kernel = np.ones((3,3), np.uint8)\n",
    "erosion = cv2.erode(th, kernel, iterations=1)\n",
    "dilation = cv2.dilate(erosion, kernel, iterations=1)\n",
    "opening = cv2.morphologyEx(th, cv2.MORPH_OPEN , kernel)"
   ]
  },
  {
   "cell_type": "code",
   "execution_count": 6,
   "id": "5c5b6a85",
   "metadata": {},
   "outputs": [],
   "source": [
    "cv2.imshow(\"original img\", img)\n",
    "cv2.imshow(\"otsu img\", th)\n",
    "cv2.imshow(\"eroded++dilated img\", opening)\n",
    "cv2.waitKey(0)\n",
    "cv2.destroyAllWindows()"
   ]
  },
  {
   "cell_type": "markdown",
   "id": "e46d0c31",
   "metadata": {},
   "source": [
    "img=cv2.resize(img,(200,200))"
   ]
  },
  {
   "cell_type": "code",
   "execution_count": 5,
   "id": "5a7356d2",
   "metadata": {},
   "outputs": [
    {
     "data": {
      "text/plain": [
       "<matplotlib.image.AxesImage at 0x2050aa5e620>"
      ]
     },
     "execution_count": 5,
     "metadata": {},
     "output_type": "execute_result"
    },
    {
     "data": {
      "image/png": "[encoded data removed]",
      "text/plain": [
       "<Figure size 432x288 with 1 Axes>"
      ]
     },
     "metadata": {
      "needs_background": "light"
     },
     "output_type": "display_data"
    }
   ],
   "source": [
    "from matplotlib.cbook import flatten\n",
    "filter2=median(img)\n",
    "cimage=canny(filter2,sigma=6)\n",
    "plt.gray()\n",
    "plt.imshow(cimage)"
   ]
  },
  {
   "cell_type": "code",
   "execution_count": null,
   "id": "0cd2195a",
   "metadata": {},
   "outputs": [],
   "source": []
  }
 ],
 "metadata": {
  "kernelspec": {
   "display_name": "Python 3 (ipykernel)",
   "language": "python",
   "name": "python3"
  },
  "language_info": {
   "codemirror_mode": {
    "name": "ipython",
    "version": 3
   },
   "file_extension": ".py",
   "mimetype": "text/x-python",
   "name": "python",
   "nbconvert_exporter": "python",
   "pygments_lexer": "ipython3",
   "version": "3.10.0"
  }
 },
 "nbformat": 4,
 "nbformat_minor": 5
}
